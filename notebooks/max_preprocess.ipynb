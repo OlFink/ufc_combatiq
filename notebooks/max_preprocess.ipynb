{
 "cells": [
  {
   "cell_type": "code",
   "execution_count": 1,
   "id": "7d9885bc",
   "metadata": {},
   "outputs": [],
   "source": [
    "import pandas as pd"
   ]
  },
  {
   "cell_type": "markdown",
   "id": "633e196c",
   "metadata": {},
   "source": [
    "# Import Data"
   ]
  },
  {
   "cell_type": "code",
   "execution_count": 2,
   "id": "5d769403",
   "metadata": {},
   "outputs": [],
   "source": [
    "# Import the CSV to fighter and fight\n",
    "fighter = pd.read_csv('../raw_data/raw_fighter_details.csv')\n",
    "fight = pd.read_csv('../raw_data/raw_total_fight_data.csv', delimiter=';')"
   ]
  },
  {
   "cell_type": "markdown",
   "id": "fa878906",
   "metadata": {
    "heading_collapsed": true
   },
   "source": [
    "# Merge Datasets"
   ]
  },
  {
   "cell_type": "code",
   "execution_count": 3,
   "id": "ee865c1d",
   "metadata": {
    "hidden": true
   },
   "outputs": [],
   "source": [
    "# Add 'R' to column names for R_fighter and 'B' for Blue to differentiate in dataset.\n",
    "R_fighter = fighter.add_prefix(\"R_\")\n",
    "B_fighter = fighter.add_prefix(\"B_\")\n",
    "\n",
    "# Merge datasets.\n",
    "data = fight.merge(R_fighter, how='left', left_on='R_fighter', right_on='R_fighter_name')\n",
    "data = data.merge(B_fighter, how='left', left_on='B_fighter', right_on='B_fighter_name')"
   ]
  },
  {
   "cell_type": "markdown",
   "id": "8b28e239",
   "metadata": {
    "heading_collapsed": true
   },
   "source": [
    "# Clean Data"
   ]
  },
  {
   "cell_type": "code",
   "execution_count": 4,
   "id": "751e8376",
   "metadata": {
    "hidden": true
   },
   "outputs": [],
   "source": [
    "# Remove characters from Weight, Reach and Height\n",
    "\n",
    "weight_cols = ['R_Weight','B_Weight']\n",
    "reach_cols = ['R_Reach','B_Reach']\n",
    "height_cols = ['R_Height','B_Height']\n",
    "\n",
    "# Remove 'lbs.' from weight cols\n",
    "for weight in weight_cols:\n",
    "    data[weight] = data[weight].apply(lambda x: float(x.replace(' lbs.', '')) if type(x) != float else x)\n",
    "\n",
    "# Remove \" from reach cols\n",
    "for reach in reach_cols:\n",
    "    data[reach] = data[reach].apply(lambda x: float(x.replace('\"', '')) if type(x) != float else x)\n",
    "    \n",
    "# Convert height from feet' inch\" to cm using funciton to apply by lambda to column\n",
    "def height_convert(height):\n",
    "    ft_in = []\n",
    "    height_cm = 0\n",
    "    for i in height.split(\"'\"):\n",
    "        i = i.replace(\"'\",\"\")\n",
    "        i = i.replace('\"','')\n",
    "        ft_in.append(i)\n",
    "    if len(ft_in) == 2:\n",
    "        height_cm += float(ft_in[0]) * 30.48\n",
    "        height_cm += float(ft_in[1]) * 2.54\n",
    "    else:\n",
    "        height_cm += float(ft_in[0]) * 30.48\n",
    "    return height_cm\n",
    "\n",
    "for height in height_cols:\n",
    "    data[height] = data[height].apply(lambda x: height_convert(x) if type(x) != float else x)"
   ]
  },
  {
   "cell_type": "code",
   "execution_count": 5,
   "id": "d4c55324",
   "metadata": {
    "hidden": true
   },
   "outputs": [],
   "source": [
    "# Convert the DOB column to date time and create age column by subtracting DOB from today's date. \n",
    "data[['R_DOB','B_DOB']] = data[['R_DOB','B_DOB']].apply(pd.to_datetime)\n",
    "\n",
    "data['R_current_age'] = pd.to_datetime(pd.Timestamp(\"today\").strftime(\"%Y-%m-%d\")) - data['R_DOB']\n",
    "data['B_current_age'] = pd.to_datetime(pd.Timestamp(\"today\").strftime(\"%Y-%m-%d\")) - data['B_DOB']\n",
    "\n",
    "# Year has 365 days, account for leap years, add 0.25. Day has 24 * 60 min, min has 60s. Multiply to get seconds in year.\n",
    "data['R_current_age'] = data['R_current_age'].apply(lambda x: x.total_seconds() / (365.25*24*60*60))\n",
    "data['B_current_age'] = data['B_current_age'].apply(lambda x: x.total_seconds() / (365.25*24*60*60))"
   ]
  },
  {
   "cell_type": "code",
   "execution_count": 6,
   "id": "c6218084",
   "metadata": {
    "hidden": true
   },
   "outputs": [],
   "source": [
    "# Remove percentae sign from the columns.\n",
    "\n",
    "def remove_pct(pct):\n",
    "    if type(pct) == str:\n",
    "        return float(pct.replace('%',''))\n",
    "    else:\n",
    "        return float(pct)\n",
    "\n",
    "pct_col = ['R_Str_Acc','B_Str_Acc','R_Str_Def','B_Str_Def',\n",
    "           'R_TD_Acc','B_TD_Acc','R_TD_Def','B_TD_Def']    \n",
    "\n",
    "for col in pct_col:\n",
    "    data[col] = data[col].apply(lambda x: remove_pct(x))"
   ]
  },
  {
   "cell_type": "code",
   "execution_count": 7,
   "id": "86c97e87",
   "metadata": {
    "hidden": true
   },
   "outputs": [],
   "source": [
    "# R_CTRL and B_CTRL and last_round_time to seconds.\n",
    "# Note, we may be able to delete the else clause.\n",
    "\n",
    "def get_sec(time):\n",
    "    # Transform time mm:ss to seconds\n",
    "    if time == '--':\n",
    "        return None\n",
    "    if len(time.split(':')) == 2:\n",
    "        m, s = time.split(':')\n",
    "        return int(m) * 60 + float(s)\n",
    "    else:\n",
    "        return None\n",
    "\n",
    "time_col = ['R_CTRL','B_CTRL','last_round_time']\n",
    "\n",
    "for col in time_col:\n",
    "    data[col] = data[col].apply(lambda x: get_sec(x))"
   ]
  },
  {
   "cell_type": "code",
   "execution_count": 8,
   "id": "c66106c4",
   "metadata": {
    "hidden": true
   },
   "outputs": [],
   "source": [
    "# Generate pct for all cols with 'X of Y' to generate percentages.\n",
    "def generate_pct(string):\n",
    "    if 'of' in string:\n",
    "        num, den = string.split(\"of\")\n",
    "        if float(den) != 0:\n",
    "            pct = (float(num)/float(den))*100\n",
    "            return pct\n",
    "        else:\n",
    "            return None\n",
    "    else:\n",
    "        return None\n",
    "\n",
    "pct_conv_cols = ['R_SIG_STR.','B_SIG_STR.','R_TOTAL_STR.','B_TOTAL_STR.',\n",
    "               'R_TD','B_TD','R_HEAD','B_HEAD','R_BODY','B_BODY','R_LEG',\n",
    "               'B_LEG','R_DISTANCE','B_DISTANCE','R_CLINCH','B_CLINCH',\n",
    "               'R_GROUND','B_GROUND']    \n",
    "\n",
    "for col in pct_conv_cols:\n",
    "    data[f\"{col}_pct\"] = data[col].apply(lambda x: generate_pct(x))\n",
    "    data.drop(columns=col, inplace=True)"
   ]
  },
  {
   "cell_type": "code",
   "execution_count": 9,
   "id": "e20f192e",
   "metadata": {
    "hidden": true
   },
   "outputs": [],
   "source": [
    "# Code R winner (instead of a named winner) True if Red Wins, False if Blue Wins\n",
    "data['R_Win'] = data['R_fighter'] == data['Winner']"
   ]
  },
  {
   "cell_type": "code",
   "execution_count": 10,
   "id": "c0795637",
   "metadata": {
    "hidden": true
   },
   "outputs": [],
   "source": [
    "# Drop Uneccessary Columns\n",
    "\n",
    "data.drop(columns=['R_DOB','B_DOB','R_SIG_STR_pct',\n",
    "                   'B_SIG_STR_pct','Referee', 'location',\n",
    "                   'date','Winner'], inplace=True)"
   ]
  },
  {
   "cell_type": "markdown",
   "id": "58cf70c3",
   "metadata": {
    "heading_collapsed": true
   },
   "source": [
    "# Preprocess"
   ]
  },
  {
   "cell_type": "code",
   "execution_count": 11,
   "id": "1a7c7e19",
   "metadata": {
    "hidden": true
   },
   "outputs": [],
   "source": [
    "from sklearn.pipeline import make_pipeline\n",
    "from sklearn.compose import make_column_transformer\n",
    "from sklearn.compose import make_column_selector\n",
    "from sklearn.preprocessing import RobustScaler\n",
    "from sklearn.impute import SimpleImputer"
   ]
  },
  {
   "cell_type": "code",
   "execution_count": 12,
   "id": "dd332b73",
   "metadata": {
    "hidden": true
   },
   "outputs": [],
   "source": [
    "# Create Imputing and Scaling Pipelines\n",
    "num_transformer = make_pipeline(SimpleImputer(strategy=\"median\"), RobustScaler())\n",
    "cat_transformer = make_pipeline(SimpleImputer(strategy=\"most_frequent\"))\n",
    "\n",
    "# Select num_col and cat_col\n",
    "num_col = make_column_selector(dtype_include=['number'])\n",
    "cat_col = make_column_selector(dtype_include=['object','bool'])\n",
    "\n",
    "# Transform the Columns\n",
    "data_preproc = make_column_transformer(\n",
    "    (num_transformer, num_col),\n",
    "    (cat_transformer, cat_col),\n",
    "    remainder='passthrough'\n",
    ")"
   ]
  },
  {
   "cell_type": "markdown",
   "id": "abe94a21",
   "metadata": {},
   "source": [
    "# Output"
   ]
  },
  {
   "cell_type": "code",
   "execution_count": 13,
   "id": "4397c0c6",
   "metadata": {},
   "outputs": [],
   "source": [
    "out = pd.DataFrame(data_preproc.fit_transform(data),\n",
    "                   columns=data_preproc.get_feature_names_out())"
   ]
  },
  {
   "cell_type": "code",
   "execution_count": 14,
   "id": "972d5a17",
   "metadata": {},
   "outputs": [
    {
     "name": "stdout",
     "output_type": "stream",
     "text": [
      "pipeline-1__R_KD: 0.0\n",
      "pipeline-1__B_KD: 0.0\n",
      "pipeline-1__R_TD_pct: 0.0\n",
      "pipeline-1__B_TD_pct: 0.1046153846153844\n",
      "pipeline-1__R_SUB_ATT: 1.0\n",
      "pipeline-1__B_SUB_ATT: 2.0\n",
      "pipeline-1__R_REV: 0.0\n",
      "pipeline-1__B_REV: 1.0\n",
      "pipeline-1__R_CTRL: -0.03111111111111111\n",
      "pipeline-1__B_CTRL: 1.3397435897435896\n",
      "pipeline-1__last_round: 0.0\n",
      "pipeline-1__last_round_time: 0.09868421052631579\n",
      "pipeline-1__R_Height: 0.19999999999999954\n",
      "pipeline-1__R_Weight: 0.375\n",
      "pipeline-1__R_Reach: 0.4\n",
      "pipeline-1__R_SLpM: 0.08552631578947362\n",
      "pipeline-1__R_Str_Acc: 1.2\n",
      "pipeline-1__R_SApM: -0.7801418439716312\n",
      "pipeline-1__R_Str_Def: 0.5555555555555556\n",
      "pipeline-1__R_TD_Avg: 0.0\n",
      "pipeline-1__R_TD_Acc: 1.9047619047619047\n",
      "pipeline-1__R_TD_Def: 0.68\n",
      "pipeline-1__R_Sub_Avg: -0.22222222222222224\n",
      "pipeline-1__B_Height: 0.6000000000000009\n",
      "pipeline-1__B_Weight: 0.875\n",
      "pipeline-1__B_Reach: 1.0\n",
      "pipeline-1__B_SLpM: -0.03468208092485552\n",
      "pipeline-1__B_Str_Acc: 0.7272727272727273\n",
      "pipeline-1__B_SApM: -0.9103448275862069\n",
      "pipeline-1__B_Str_Def: 0.5454545454545454\n",
      "pipeline-1__B_TD_Avg: 0.3333333333333333\n",
      "pipeline-1__B_TD_Acc: 0.5\n",
      "pipeline-1__B_TD_Def: -0.9310344827586207\n",
      "pipeline-1__B_Sub_Avg: 2.0000000000000004\n",
      "pipeline-1__R_current_age: -1.0661965623622753\n",
      "pipeline-1__B_current_age: -0.4787575865762232\n",
      "pipeline-1__R_SIG_STR._pct: 0.018300543531375033\n",
      "pipeline-1__B_SIG_STR._pct: 0.28106954180483673\n",
      "pipeline-1__R_TOTAL_STR._pct: 0.1388098615363842\n",
      "pipeline-1__B_TOTAL_STR._pct: 0.6960617496059217\n",
      "pipeline-1__R_HEAD_pct: 0.24197783090215072\n",
      "pipeline-1__B_HEAD_pct: -0.2309594195794912\n",
      "pipeline-1__R_BODY_pct: 0.9510489510489509\n",
      "pipeline-1__B_BODY_pct: -0.6905370843989768\n",
      "pipeline-1__R_LEG_pct: -1.5294117647058822\n",
      "pipeline-1__B_LEG_pct: 0.304342667299478\n",
      "pipeline-1__R_DISTANCE_pct: -0.13481333580357427\n",
      "pipeline-1__B_DISTANCE_pct: 0.6337533696399532\n",
      "pipeline-1__R_CLINCH_pct: 0.4275912785648903\n",
      "pipeline-1__B_CLINCH_pct: -0.6818181818181814\n",
      "pipeline-1__R_GROUND_pct: 0.49521489595153545\n",
      "pipeline-1__B_GROUND_pct: -2.571428571428569\n",
      "pipeline-2__R_fighter: Trevin Giles\n",
      "pipeline-2__B_fighter: Roman Dolidze\n",
      "pipeline-2__win_by: Decision - Unanimous\n",
      "pipeline-2__Format: 3 Rnd (5-5-5)\n",
      "pipeline-2__Fight_type: Middleweight Bout\n",
      "pipeline-2__R_fighter_name: Trevin Giles\n",
      "pipeline-2__R_Stance: Orthodox\n",
      "pipeline-2__B_fighter_name: Roman Dolidze\n",
      "pipeline-2__B_Stance: Orthodox\n",
      "pipeline-2__R_Win: True\n"
     ]
    }
   ],
   "source": [
    "# Check columns and example values.\n",
    "out_cols = list(out.columns)\n",
    "for i in out_cols:\n",
    "    print(f\"{i}: {out[i][1]}\")"
   ]
  },
  {
   "cell_type": "code",
   "execution_count": 17,
   "id": "8afd4481-6439-49b3-8cb5-7a4545003a08",
   "metadata": {},
   "outputs": [
    {
     "data": {
      "text/plain": [
       "(6012, 62)"
      ]
     },
     "execution_count": 17,
     "metadata": {},
     "output_type": "execute_result"
    }
   ],
   "source": [
    "out.shape"
   ]
  },
  {
   "cell_type": "code",
   "execution_count": 18,
   "id": "aab12d9a-958f-483d-87e0-c7b819571107",
   "metadata": {},
   "outputs": [
    {
     "name": "stdout",
     "output_type": "stream",
     "text": [
      "Merged data saved as '/merged_out.csv'\n"
     ]
    }
   ],
   "source": [
    "#Export merged data file\n",
    "with open('../raw_data/merged_out.csv', 'w') as file:\n",
    "    out.to_csv(file, index = True, header = True)\n",
    "print(\"Merged data saved as '/merged_out.csv'\")"
   ]
  },
  {
   "cell_type": "code",
   "execution_count": null,
   "id": "d9a0f7c7-46f9-4684-abb3-eb06b71f533b",
   "metadata": {},
   "outputs": [],
   "source": []
  }
 ],
 "metadata": {
  "kernelspec": {
   "display_name": "Python 3 (ipykernel)",
   "language": "python",
   "name": "python3"
  },
  "language_info": {
   "codemirror_mode": {
    "name": "ipython",
    "version": 3
   },
   "file_extension": ".py",
   "mimetype": "text/x-python",
   "name": "python",
   "nbconvert_exporter": "python",
   "pygments_lexer": "ipython3",
   "version": "3.12.2"
  },
  "toc": {
   "base_numbering": 1,
   "nav_menu": {},
   "number_sections": true,
   "sideBar": true,
   "skip_h1_title": false,
   "title_cell": "Table of Contents",
   "title_sidebar": "Contents",
   "toc_cell": false,
   "toc_position": {},
   "toc_section_display": true,
   "toc_window_display": false
  }
 },
 "nbformat": 4,
 "nbformat_minor": 5
}
