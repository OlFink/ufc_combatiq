{
 "cells": [
  {
   "cell_type": "markdown",
   "id": "31af620c",
   "metadata": {
    "heading_collapsed": true
   },
   "source": [
    "# Import Packages"
   ]
  },
  {
   "cell_type": "code",
   "execution_count": 28,
   "id": "7d9885bc",
   "metadata": {
    "hidden": true
   },
   "outputs": [],
   "source": [
    "import pandas as pd"
   ]
  },
  {
   "cell_type": "markdown",
   "id": "633e196c",
   "metadata": {},
   "source": [
    "# Import Data"
   ]
  },
  {
   "cell_type": "code",
   "execution_count": 29,
   "id": "5d769403",
   "metadata": {},
   "outputs": [],
   "source": [
    "# Import the CSV to fighter and fight\n",
    "fighter = pd.read_csv('../ufc_data_raw_main/raw_fighter_details.csv')\n",
    "fight = pd.read_csv('../ufc_data_raw_main/raw_total_fight_data.csv', delimiter=';')"
   ]
  },
  {
   "cell_type": "markdown",
   "id": "fa878906",
   "metadata": {},
   "source": [
    "# Merge Datasets"
   ]
  },
  {
   "cell_type": "code",
   "execution_count": 30,
   "id": "ee865c1d",
   "metadata": {},
   "outputs": [],
   "source": [
    "# Add 'R' to column names for R_fighter and 'B' for Blue to differentiate in dataset.\n",
    "R_fighter = fighter.add_prefix(\"R_\")\n",
    "B_fighter = fighter.add_prefix(\"B_\")\n",
    "\n",
    "# Merge datasets.\n",
    "data = fight.merge(R_fighter, how='left', left_on='R_fighter', right_on='R_fighter_name')\n",
    "data = data.merge(B_fighter, how='left', left_on='B_fighter', right_on='B_fighter_name')"
   ]
  },
  {
   "cell_type": "markdown",
   "id": "8b28e239",
   "metadata": {},
   "source": [
    "# Clean Data"
   ]
  },
  {
   "cell_type": "code",
   "execution_count": 31,
   "id": "751e8376",
   "metadata": {},
   "outputs": [],
   "source": [
    "# Remove characters from Weight, Reach and Height\n",
    "\n",
    "weight_cols = ['R_Weight','B_Weight']\n",
    "reach_cols = ['R_Reach','B_Reach']\n",
    "height_cols = ['R_Height','B_Height']\n",
    "\n",
    "# Remove 'lbs.' from weight cols\n",
    "for weight in weight_cols:\n",
    "    data[weight] = data[weight].apply(lambda x: float(x.replace(' lbs.', '')) if type(x) != float else x)\n",
    "\n",
    "# Remove \" from reach cols\n",
    "for reach in reach_cols:\n",
    "    data[reach] = data[reach].apply(lambda x: float(x.replace('\"', '')) if type(x) != float else x)\n",
    "    \n",
    "# Convert height from feet' inch\" to cm using funciton to apply by lambda to column\n",
    "def height_convert(height):\n",
    "    ft_in = []\n",
    "    height_cm = 0\n",
    "    for i in height.split(\"'\"):\n",
    "        i = i.replace(\"'\",\"\")\n",
    "        i = i.replace('\"','')\n",
    "        ft_in.append(i)\n",
    "    if len(ft_in) == 2:\n",
    "        height_cm += float(ft_in[0]) * 30.48\n",
    "        height_cm += float(ft_in[1]) * 2.54\n",
    "    else:\n",
    "        height_cm += float(ft_in[0]) * 30.48\n",
    "    return height_cm\n",
    "\n",
    "for height in height_cols:\n",
    "    data[height] = data[height].apply(lambda x: height_convert(x) if type(x) != float else x)"
   ]
  },
  {
   "cell_type": "code",
   "execution_count": 32,
   "id": "d4c55324",
   "metadata": {},
   "outputs": [],
   "source": [
    "# Convert the DOB column to date time and create age column by subtracting DOB from today's date. \n",
    "data[['R_DOB','B_DOB']] = data[['R_DOB','B_DOB']].apply(pd.to_datetime)\n",
    "\n",
    "data['R_current_age'] = pd.to_datetime(pd.Timestamp(\"today\").strftime(\"%Y-%m-%d\")) - data['R_DOB']\n",
    "data['B_current_age'] = pd.to_datetime(pd.Timestamp(\"today\").strftime(\"%Y-%m-%d\")) - data['B_DOB']\n",
    "\n",
    "# Year has 365 days, account for leap years, add 0.25. Day has 24 * 60 min, min has 60s. Multiply to get seconds in year.\n",
    "data['R_current_age'] = data['R_current_age'].apply(lambda x: x.total_seconds() / (365.25*24*60*60))\n",
    "data['B_current_age'] = data['B_current_age'].apply(lambda x: x.total_seconds() / (365.25*24*60*60))"
   ]
  },
  {
   "cell_type": "code",
   "execution_count": 33,
   "id": "c6218084",
   "metadata": {},
   "outputs": [],
   "source": [
    "# Remove percentae sign from the columns.\n",
    "\n",
    "def remove_pct(pct):\n",
    "    if type(pct) == str:\n",
    "        return float(pct.replace('%',''))\n",
    "    else:\n",
    "        return float(pct)\n",
    "\n",
    "pct_col = ['R_Str_Acc','B_Str_Acc','R_Str_Def','B_Str_Def',\n",
    "           'R_TD_Acc','B_TD_Acc','R_TD_Def','B_TD_Def']    \n",
    "\n",
    "for col in pct_col:\n",
    "    data[col] = data[col].apply(lambda x: remove_pct(x))"
   ]
  },
  {
   "cell_type": "code",
   "execution_count": 34,
   "id": "86c97e87",
   "metadata": {},
   "outputs": [],
   "source": [
    "# R_CTRL and B_CTRL and last_round_time to seconds.\n",
    "# Note, we may be able to delete the else clause.\n",
    "\n",
    "def get_sec(time):\n",
    "    # Transform time mm:ss to seconds\n",
    "    if time == '--':\n",
    "        return None\n",
    "    if len(time.split(':')) == 2:\n",
    "        m, s = time.split(':')\n",
    "        return int(m) * 60 + float(s)\n",
    "    else:\n",
    "        return None\n",
    "\n",
    "time_col = ['R_CTRL','B_CTRL','last_round_time']\n",
    "\n",
    "for col in time_col:\n",
    "    data[col] = data[col].apply(lambda x: get_sec(x))"
   ]
  },
  {
   "cell_type": "code",
   "execution_count": 35,
   "id": "c66106c4",
   "metadata": {},
   "outputs": [],
   "source": [
    "# Generate pct for all cols with 'X of Y' to generate percentages.\n",
    "def generate_pct(string):\n",
    "    if 'of' in string:\n",
    "        num, den = string.split(\"of\")\n",
    "        if float(den) != 0:\n",
    "            pct = (float(num)/float(den))*100\n",
    "            return pct\n",
    "        else:\n",
    "            return None\n",
    "    else:\n",
    "        return None\n",
    "\n",
    "pct_conv_cols = ['R_SIG_STR.','B_SIG_STR.','R_TOTAL_STR.','B_TOTAL_STR.',\n",
    "               'R_TD','B_TD','R_HEAD','B_HEAD','R_BODY','B_BODY','R_LEG',\n",
    "               'B_LEG','R_DISTANCE','B_DISTANCE','R_CLINCH','B_CLINCH',\n",
    "               'R_GROUND','B_GROUND']    \n",
    "\n",
    "for col in pct_conv_cols:\n",
    "    data[f\"{col}_pct\"] = data[col].apply(lambda x: generate_pct(x))\n",
    "    data.drop(columns=col, inplace=True)"
   ]
  },
  {
   "cell_type": "code",
   "execution_count": 36,
   "id": "e20f192e",
   "metadata": {},
   "outputs": [],
   "source": [
    "# Code R winner (instead of a named winner) True if Red Wins, False if Blue Wins\n",
    "data['R_Win'] = data['R_fighter'] == data['Winner']"
   ]
  },
  {
   "cell_type": "code",
   "execution_count": 37,
   "id": "c0795637",
   "metadata": {},
   "outputs": [],
   "source": [
    "# Drop Uneccessary Columns\n",
    "\n",
    "data.drop(columns=['R_DOB','B_DOB','R_SIG_STR_pct',\n",
    "                   'B_SIG_STR_pct','Referee', 'location',\n",
    "                   'date','Winner','R_fighter_name',\n",
    "                   'B_fighter_name'], inplace=True)"
   ]
  },
  {
   "cell_type": "markdown",
   "id": "abe94a21",
   "metadata": {},
   "source": [
    "# Output"
   ]
  },
  {
   "cell_type": "code",
   "execution_count": 38,
   "id": "972d5a17",
   "metadata": {},
   "outputs": [
    {
     "name": "stdout",
     "output_type": "stream",
     "text": [
      "R_fighter: Trevin Giles\n",
      "B_fighter: Roman Dolidze\n",
      "R_KD: 0\n",
      "B_KD: 0\n",
      "R_TD_pct: 50.0\n",
      "B_TD_pct: 33.33333333333333\n",
      "R_SUB_ATT: 1\n",
      "B_SUB_ATT: 2\n",
      "R_REV: 0\n",
      "B_REV: 1\n",
      "R_CTRL: 75.0\n",
      "B_CTRL: 255.0\n",
      "win_by: Decision - Unanimous\n",
      "last_round: 3\n",
      "last_round_time: 300.0\n",
      "Format: 3 Rnd (5-5-5)\n",
      "Fight_type: Middleweight Bout\n",
      "R_Height: 182.88\n",
      "R_Weight: 185.0\n",
      "R_Reach: 74.0\n",
      "R_Stance: Orthodox\n",
      "R_SLpM: 3.26\n",
      "R_Str_Acc: 56.0\n",
      "R_SApM: 1.88\n",
      "R_Str_Def: 62.0\n",
      "R_TD_Avg: 1.37\n",
      "R_TD_Acc: 80.0\n",
      "R_TD_Def: 79.0\n",
      "R_Sub_Avg: 0.3\n",
      "B_Height: 187.96\n",
      "B_Weight: 205.0\n",
      "B_Reach: 76.0\n",
      "B_Stance: Orthodox\n",
      "B_SLpM: 2.98\n",
      "B_Str_Acc: 51.0\n",
      "B_SApM: 1.75\n",
      "B_Str_Def: 61.0\n",
      "B_TD_Avg: 1.75\n",
      "B_TD_Acc: 50.0\n",
      "B_TD_Def: 33.0\n",
      "B_Sub_Avg: 2.2\n",
      "R_current_age: 31.589322381930184\n",
      "B_current_age: 35.64955509924709\n",
      "R_SIG_STR._pct: 47.368421052631575\n",
      "B_SIG_STR._pct: 47.76119402985074\n",
      "R_TOTAL_STR._pct: 58.9041095890411\n",
      "B_TOTAL_STR._pct: 68.18181818181817\n",
      "R_HEAD_pct: 43.13725490196079\n",
      "B_HEAD_pct: 27.027027027027028\n",
      "R_BODY_pct: 100.0\n",
      "B_BODY_pct: 50.0\n",
      "R_LEG_pct: 50.0\n",
      "B_LEG_pct: 93.75\n",
      "R_DISTANCE_pct: 35.714285714285715\n",
      "B_DISTANCE_pct: 47.45762711864407\n",
      "R_CLINCH_pct: 80.0\n",
      "B_CLINCH_pct: 50.0\n",
      "R_GROUND_pct: 80.0\n",
      "B_GROUND_pct: 50.0\n",
      "R_Win: True\n"
     ]
    }
   ],
   "source": [
    "# Check columns and example values.\n",
    "data_cols = list(data.columns)\n",
    "for i in data_cols:\n",
    "    print(f\"{i}: {data[i][1]}\")"
   ]
  },
  {
   "cell_type": "code",
   "execution_count": 39,
   "id": "58b3d425",
   "metadata": {},
   "outputs": [],
   "source": [
    "data.to_csv(\"../data/data.csv\", index=False)"
   ]
  }
 ],
 "metadata": {
  "kernelspec": {
   "display_name": "Python 3 (ipykernel)",
   "language": "python",
   "name": "python3"
  },
  "language_info": {
   "codemirror_mode": {
    "name": "ipython",
    "version": 3
   },
   "file_extension": ".py",
   "mimetype": "text/x-python",
   "name": "python",
   "nbconvert_exporter": "python",
   "pygments_lexer": "ipython3",
   "version": "3.10.6"
  },
  "toc": {
   "base_numbering": 1,
   "nav_menu": {},
   "number_sections": true,
   "sideBar": true,
   "skip_h1_title": false,
   "title_cell": "Table of Contents",
   "title_sidebar": "Contents",
   "toc_cell": false,
   "toc_position": {},
   "toc_section_display": true,
   "toc_window_display": false
  }
 },
 "nbformat": 4,
 "nbformat_minor": 5
}
